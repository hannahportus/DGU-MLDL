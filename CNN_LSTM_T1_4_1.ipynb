{
  "nbformat": 4,
  "nbformat_minor": 0,
  "metadata": {
    "colab": {
      "provenance": [],
      "gpuType": "T4",
      "include_colab_link": true
    },
    "kernelspec": {
      "name": "python3",
      "display_name": "Python 3"
    },
    "language_info": {
      "name": "python"
    },
    "accelerator": "GPU"
  },
  "cells": [
    {
      "cell_type": "markdown",
      "metadata": {
        "id": "view-in-github",
        "colab_type": "text"
      },
      "source": [
        "<a href=\"https://colab.research.google.com/github/hannahportus/DGU-MLDL/blob/main/CNN_LSTM_T1_4_1.ipynb\" target=\"_parent\"><img src=\"https://colab.research.google.com/assets/colab-badge.svg\" alt=\"Open In Colab\"/></a>"
      ]
    },
    {
      "cell_type": "code",
      "execution_count": 1,
      "metadata": {
        "colab": {
          "base_uri": "https://localhost:8080/"
        },
        "id": "-bL2xkvXDGbZ",
        "outputId": "c088eac5-a8fc-497c-c63b-4fca9bcdd025"
      },
      "outputs": [
        {
          "output_type": "stream",
          "name": "stdout",
          "text": [
            "Mounted at /content/drive\n"
          ]
        }
      ],
      "source": [
        "from google.colab import drive\n",
        "drive.mount('/content/drive')"
      ]
    },
    {
      "cell_type": "code",
      "source": [
        "import pandas as pd\n",
        "import numpy as np\n",
        "from sklearn.preprocessing import MinMaxScaler\n",
        "from sklearn.model_selection import train_test_split\n",
        "import matplotlib.pyplot as plt\n",
        "# from sklearn.preprocessing import OneHotEncoder, StandardScaler\n",
        "from sklearn.compose import ColumnTransformer\n",
        "from sklearn.preprocessing import LabelEncoder, OneHotEncoder\n",
        "from keras.utils import to_categorical\n",
        "\n",
        "# 데이터 불러오기\n",
        "data = pd.read_csv('/content/drive/MyDrive/finaldata.csv')\n",
        "df = pd.DataFrame(data)\n",
        "df.info()"
      ],
      "metadata": {
        "colab": {
          "base_uri": "https://localhost:8080/"
        },
        "id": "VaAeyE77EQcn",
        "outputId": "3d7bf15f-f6e2-408e-d86d-fa504b4e6e15"
      },
      "execution_count": 2,
      "outputs": [
        {
          "output_type": "stream",
          "name": "stdout",
          "text": [
            "<class 'pandas.core.frame.DataFrame'>\n",
            "RangeIndex: 843 entries, 0 to 842\n",
            "Data columns (total 23 columns):\n",
            " #   Column               Non-Null Count  Dtype  \n",
            "---  ------               --------------  -----  \n",
            " 0   Date                 843 non-null    object \n",
            " 1   BOD                  843 non-null    float64\n",
            " 2   COD                  843 non-null    float64\n",
            " 3   SS                   843 non-null    float64\n",
            " 4   TN                   843 non-null    float64\n",
            " 5   TP                   843 non-null    float64\n",
            " 6   EcoliNum             843 non-null    float64\n",
            " 7   PM10                 843 non-null    float64\n",
            " 8   PM25                 843 non-null    float64\n",
            " 9   O3                   843 non-null    float64\n",
            " 10  NO2                  843 non-null    float64\n",
            " 11  CO                   843 non-null    float64\n",
            " 12  SO2                  843 non-null    float64\n",
            " 13  AverTemp             843 non-null    float64\n",
            " 14  DailyPrecipitation   843 non-null    float64\n",
            " 15  AverWinSpeed         843 non-null    float64\n",
            " 16  AverRelativhumidity  843 non-null    float64\n",
            " 17  SumInsolation        843 non-null    float64\n",
            " 18  AverageTCloud        843 non-null    float64\n",
            " 19  SumLEvapor           843 non-null    float64\n",
            " 20  COVID19-7Days        843 non-null    int64  \n",
            " 21  PercentChange        843 non-null    object \n",
            " 22  Level                843 non-null    object \n",
            "dtypes: float64(19), int64(1), object(3)\n",
            "memory usage: 151.6+ KB\n"
          ]
        }
      ]
    },
    {
      "cell_type": "code",
      "source": [
        "# Convert date to datetime object\n",
        "df['Date'] = pd.to_datetime(df['Date'])\n",
        "\n",
        "df['Month'] = df['Date'].dt.month\n",
        "df['Day'] = df['Date'].dt.day\n",
        "df['Year'] = df['Date'].dt.year\n",
        "\n",
        "df['PercentChange'] = df['PercentChange'].astype(str)\n",
        "df['PercentChange'] = df['PercentChange'].str.rstrip('%')\n",
        "df['PercentChange'] = df['PercentChange'].astype(float)\n",
        "\n",
        "# x1 = datetime , x2 = env and covid data\n",
        "x1 = df.iloc[:,23:26]\n",
        "x2_initial = df.iloc[:,1:22]\n",
        "x2_column_names = x2_initial.columns"
      ],
      "metadata": {
        "id": "Fe7bOatWQhFz"
      },
      "execution_count": 3,
      "outputs": []
    },
    {
      "cell_type": "code",
      "source": [
        "# category encoder - ONE HOT ENCODER\n",
        "encoder = OneHotEncoder()\n",
        "df_level = encoder.fit_transform(df[['Level']])\n",
        "df_level_encoded = pd.DataFrame(df_level.toarray(), columns=encoder.get_feature_names_out(['Level']))\n",
        "\n",
        "df = pd.concat([df,df_level_encoded], axis=1)\n",
        "\n",
        "duplicated_columns = df.columns[df.columns.duplicated()]\n",
        "if duplicated_columns.any():\n",
        "   # Drop duplicate columns\n",
        "    df.drop(duplicated_columns, axis=1, inplace=True)\n",
        "\n",
        "df.info()\n",
        "\n",
        "# category encoder - LABEL ENCODER\n",
        "#encoder = LabelEncoder()\n",
        "#encoder.fit(y_initial)\n",
        "#encoded_y = encoder.transform(y_initial)\n",
        "\n",
        "#y = to_categorical(encoded_y)\n",
        "\n",
        "# x normalization - MIN-MAX SCALER\n",
        "scaler = MinMaxScaler()\n",
        "x2_scaled = scaler.fit_transform(x2_initial)\n",
        "x2 = pd.DataFrame(x2_scaled)\n",
        "x2 = pd.DataFrame(x2_scaled, columns=x2_column_names)"
      ],
      "metadata": {
        "id": "0y3Orcz4LUBO",
        "colab": {
          "base_uri": "https://localhost:8080/"
        },
        "outputId": "5e2a2f65-19e2-4d2a-ea06-01a7dc1499bc"
      },
      "execution_count": 4,
      "outputs": [
        {
          "output_type": "stream",
          "name": "stdout",
          "text": [
            "<class 'pandas.core.frame.DataFrame'>\n",
            "RangeIndex: 843 entries, 0 to 842\n",
            "Data columns (total 33 columns):\n",
            " #   Column                      Non-Null Count  Dtype         \n",
            "---  ------                      --------------  -----         \n",
            " 0   Date                        843 non-null    datetime64[ns]\n",
            " 1   BOD                         843 non-null    float64       \n",
            " 2   COD                         843 non-null    float64       \n",
            " 3   SS                          843 non-null    float64       \n",
            " 4   TN                          843 non-null    float64       \n",
            " 5   TP                          843 non-null    float64       \n",
            " 6   EcoliNum                    843 non-null    float64       \n",
            " 7   PM10                        843 non-null    float64       \n",
            " 8   PM25                        843 non-null    float64       \n",
            " 9   O3                          843 non-null    float64       \n",
            " 10  NO2                         843 non-null    float64       \n",
            " 11  CO                          843 non-null    float64       \n",
            " 12  SO2                         843 non-null    float64       \n",
            " 13  AverTemp                    843 non-null    float64       \n",
            " 14  DailyPrecipitation          843 non-null    float64       \n",
            " 15  AverWinSpeed                843 non-null    float64       \n",
            " 16  AverRelativhumidity         843 non-null    float64       \n",
            " 17  SumInsolation               843 non-null    float64       \n",
            " 18  AverageTCloud               843 non-null    float64       \n",
            " 19  SumLEvapor                  843 non-null    float64       \n",
            " 20  COVID19-7Days               843 non-null    int64         \n",
            " 21  PercentChange               843 non-null    float64       \n",
            " 22  Level                       843 non-null    object        \n",
            " 23  Month                       843 non-null    int32         \n",
            " 24  Day                         843 non-null    int32         \n",
            " 25  Year                        843 non-null    int32         \n",
            " 26  Level_Minor Decrease        843 non-null    float64       \n",
            " 27  Level_Minor Increase        843 non-null    float64       \n",
            " 28  Level_Moderate Decrease     843 non-null    float64       \n",
            " 29  Level_Moderate Increase     843 non-null    float64       \n",
            " 30  Level_No Change             843 non-null    float64       \n",
            " 31  Level_Substantial Decrease  843 non-null    float64       \n",
            " 32  Level_Substantial Increase  843 non-null    float64       \n",
            "dtypes: datetime64[ns](1), float64(27), int32(3), int64(1), object(1)\n",
            "memory usage: 207.6+ KB\n"
          ]
        }
      ]
    },
    {
      "cell_type": "code",
      "source": [
        "x = pd.concat([x1, x2], axis=1)\n",
        "y = df.iloc[:,26:33]"
      ],
      "metadata": {
        "id": "oUNlYdUWrTBS"
      },
      "execution_count": 5,
      "outputs": []
    },
    {
      "cell_type": "code",
      "source": [
        "# Data Sequencing - parameter: time_series\n",
        "time_steps = 7\n",
        "def create_sequences(x, y, time_steps):\n",
        "    x_seq, y_seq = [], []\n",
        "    for i in range(len(x) - time_steps):\n",
        "        x_seq.append(x[i:i+time_steps])\n",
        "        y_seq.append(y.iloc[i+time_steps])\n",
        "    return np.array(x_seq), np.array(y_seq)\n",
        "\n",
        "x_seq, y_seq = create_sequences(x, y, time_steps)"
      ],
      "metadata": {
        "id": "PN2oqdWIrTaJ"
      },
      "execution_count": 10,
      "outputs": []
    },
    {
      "cell_type": "code",
      "source": [
        "# data splitting to train and test datasets\n",
        "x_train, x_test, y_train, y_test = train_test_split(x_seq, y_seq, test_size=0.2, shuffle=False, random_state=0)\n",
        "\n",
        "# reshape input data for compatibility with 1D CNN\n",
        "x_train = x_train.reshape(x_train.shape[0], x_train.shape[1], x_train.shape[2], 1).astype('float32')\n",
        "x_test = x_test.reshape(x_test.shape[0], x_test.shape[1], x_test.shape[2], 1).astype('float32')\n",
        "\n",
        "y_train = y_train[:len(x_train)]\n",
        "y_test = y_test[:len(x_test)]\n",
        "\n",
        "print(x_train.shape)\n",
        "print(x_test.shape)\n",
        "print(y_train.shape)\n",
        "print(y_test.shape)"
      ],
      "metadata": {
        "id": "VTLP4tlLrTcR",
        "colab": {
          "base_uri": "https://localhost:8080/"
        },
        "outputId": "e4b04347-b43d-41e4-a60d-8acb4b6e92fe"
      },
      "execution_count": 11,
      "outputs": [
        {
          "output_type": "stream",
          "name": "stdout",
          "text": [
            "(668, 7, 24, 1)\n",
            "(168, 7, 24, 1)\n",
            "(668, 7)\n",
            "(168, 7)\n"
          ]
        }
      ]
    },
    {
      "cell_type": "code",
      "source": [
        "from tensorflow.keras.models import Sequential\n",
        "from tensorflow.keras.layers import Dense, Conv1D, MaxPooling1D, Flatten, LSTM, Dropout, BatchNormalization, Activation, Bidirectional\n",
        "from tensorflow.keras.optimizers import Adam, SGD, RMSprop\n",
        "from keras.losses import CategoricalCrossentropy\n",
        "\n",
        "# Define model parameters\n",
        "verbose = 0\n",
        "epochs = 500\n",
        "batch_size = 60\n",
        "n_dim1, n_dim2 = x_train.shape[1], x_train.shape[2]\n",
        "num_features = n_dim2  # Number of input data features\n",
        "\n",
        "num_hidden_units1 = 100  # Example number of hidden units for first LSTM layer\n",
        "num_hidden_units2 = 200  # Example number of hidden units for second LSTM layer\n",
        "num_hidden_units3 = 100  # Example number of hidden units for third LSTM layer\n",
        "\n",
        "learning_rate = 0.001\n",
        "optimizer = Adam(learning_rate)\n",
        "loss = CategoricalCrossentropy()\n",
        "\n",
        "# Create CNN-LSTM model\n",
        "#model.add(Conv1D(filters=64, kernel_size=3, activation='relu', input_shape=(n_dim1, n_dim2)))\n",
        "#model.add(Conv1D(filters=32, kernel_size=3, activation='relu'))\n",
        "#model.add(MaxPooling1D(pool_size=2))\n",
        "#model.add(LSTM(hiddenunits_1))  # Add LSTM layer\n",
        "#model.add(Dense(hiddenunits_2, activation='relu'))\n",
        "#model.add(Dense(7, activation='softmax'))\n",
        "# Compile model\n",
        "#model.compile(loss='categorical_crossentropy', optimizer='adam', metrics=['accuracy'])\n",
        "# Print model summary\n",
        "#model.summary()\n",
        "\n",
        "def create_cnn_lstm_model(num_features, time_steps, num_hidden_units1, num_hidden_units2, num_hidden_units3):\n",
        "    model = Sequential([\n",
        "        Conv1D(filters=100, kernel_size=num_features, padding='same', input_shape=(time_steps, num_features)),\n",
        "        Dropout(0.3),\n",
        "        BatchNormalization(),\n",
        "        Conv1D(filters=500, kernel_size=num_features, padding='same'),\n",
        "        Dropout(0.3),\n",
        "        BatchNormalization(),\n",
        "        LSTM(units=num_hidden_units1, return_sequences=True),\n",
        "        Dropout(0.2),\n",
        "        LSTM(units=num_hidden_units2, return_sequences=True),\n",
        "        Dropout(0.5),\n",
        "        LSTM(units=num_hidden_units3, return_sequences=True),\n",
        "        Dropout(0.2),\n",
        "        Bidirectional(LSTM(units=num_hidden_units3, return_sequences=False)),\n",
        "        Dense(units=7, activation='softmax')\n",
        "    ])\n",
        "\n",
        "    model.compile(optimizer=optimizer, loss=loss, metrics=['accuracy'])\n",
        "\n",
        "    return model\n",
        "\n",
        "#model = Sequential()\n",
        "#model.add(Conv1D(filters=64, kernel_size=3, activation='relu', input_shape=(time_steps, num_features), padding='same'))\n",
        "#model.add(Conv1D(filters=64, kernel_size=3, activation='relu', padding='same'))\n",
        "#model.add(MaxPooling1D(pool_size=2))\n",
        "#model.add(Conv1D(filters=128, kernel_size=3, activation='relu', padding='same'))\n",
        "#model.add(Conv1D(filters=128, kernel_size=3, activation='relu', padding='same'))\n",
        "#model.add(MaxPooling1D(pool_size=2))\n",
        "#model.add(Conv1D(filters=256, kernel_size=3, activation='relu', padding='same'))\n",
        "#model.add(Conv1D(filters=256, kernel_size=3, activation='relu', padding='same'))\n",
        "#model.add(MaxPooling1D(pool_size=2))\n",
        "#odel.add(Conv1D(filters=512, kernel_size=3, activation='relu', padding='same'))\n",
        "#model.add(Conv1D(filters=512, kernel_size=3, activation='relu', padding='same'))\n",
        "#model.add(Conv1D(filters=512, kernel_size=3, activation='relu', padding='same'))\n",
        "#model.add(MaxPooling1D(pool_size=2))\n",
        "#model.add(Conv1D(filters=512, kernel_size=3, activation='relu', padding='same'))\n",
        "#model.add(Conv1D(filters=512, kernel_size=3, activation='relu', padding='same'))\n",
        "#model.add(Conv1D(filters=512, kernel_size=3, activation='relu', padding='same'))\n",
        "#model.add(MaxPooling1D(pool_size=2))\n",
        "#model.add(LSTM(units=100))\n",
        "#model.add(Dense(units=128, activation='relu'))\n",
        "#model.add(Dense(units=7, activation='softmax'))\n",
        "#model.compile(optimizer=optimizer, loss=loss, metrics=['accuracy'])\n",
        "\n",
        "model = create_cnn_lstm_model(num_features, time_steps, num_hidden_units1, num_hidden_units2, num_hidden_units3)\n",
        "model.summary()"
      ],
      "metadata": {
        "id": "Tv7UTrb5rTd8",
        "colab": {
          "base_uri": "https://localhost:8080/"
        },
        "outputId": "098de295-01bc-4971-9450-00ccb68835fe"
      },
      "execution_count": 15,
      "outputs": [
        {
          "output_type": "stream",
          "name": "stdout",
          "text": [
            "Model: \"sequential_2\"\n",
            "_________________________________________________________________\n",
            " Layer (type)                Output Shape              Param #   \n",
            "=================================================================\n",
            " conv1d_4 (Conv1D)           (None, 7, 100)            57700     \n",
            "                                                                 \n",
            " dropout_10 (Dropout)        (None, 7, 100)            0         \n",
            "                                                                 \n",
            " batch_normalization_4 (Bat  (None, 7, 100)            400       \n",
            " chNormalization)                                                \n",
            "                                                                 \n",
            " conv1d_5 (Conv1D)           (None, 7, 500)            1200500   \n",
            "                                                                 \n",
            " dropout_11 (Dropout)        (None, 7, 500)            0         \n",
            "                                                                 \n",
            " batch_normalization_5 (Bat  (None, 7, 500)            2000      \n",
            " chNormalization)                                                \n",
            "                                                                 \n",
            " lstm_8 (LSTM)               (None, 7, 100)            240400    \n",
            "                                                                 \n",
            " dropout_12 (Dropout)        (None, 7, 100)            0         \n",
            "                                                                 \n",
            " lstm_9 (LSTM)               (None, 7, 200)            240800    \n",
            "                                                                 \n",
            " dropout_13 (Dropout)        (None, 7, 200)            0         \n",
            "                                                                 \n",
            " lstm_10 (LSTM)              (None, 7, 100)            120400    \n",
            "                                                                 \n",
            " dropout_14 (Dropout)        (None, 7, 100)            0         \n",
            "                                                                 \n",
            " bidirectional_2 (Bidirecti  (None, 200)               160800    \n",
            " onal)                                                           \n",
            "                                                                 \n",
            " dense_2 (Dense)             (None, 7)                 1407      \n",
            "                                                                 \n",
            "=================================================================\n",
            "Total params: 2024407 (7.72 MB)\n",
            "Trainable params: 2023207 (7.72 MB)\n",
            "Non-trainable params: 1200 (4.69 KB)\n",
            "_________________________________________________________________\n"
          ]
        }
      ]
    },
    {
      "cell_type": "code",
      "source": [
        "from sklearn.metrics import confusion_matrix, precision_score, recall_score, f1_score\n",
        "\n",
        "history = model.fit(x_train, y_train, epochs=epochs, batch_size=batch_size, validation_data=(x_test, y_test), verbose=verbose)\n",
        "\n",
        "# Evaluate the model on the test data\n",
        "test_loss, test_accuracy = model.evaluate(x_test, y_test, verbose=verbose)\n",
        "\n",
        "print(\"Test Loss:\", test_loss)\n",
        "print(\"Test Accuracy:\", test_accuracy)\n",
        "\n",
        "# Make predictions on test data\n",
        "y_pred = model.predict(x_test)\n",
        "y_pred_classes = np.argmax(y_pred, axis=1)\n",
        "\n",
        "# Calculate precision, recall, and F1 score\n",
        "precision = precision_score(np.argmax(y_test, axis=1), y_pred_classes, average='weighted')\n",
        "recall = recall_score(np.argmax(y_test, axis=1), y_pred_classes, average='weighted')\n",
        "f1 = f1_score(np.argmax(y_test, axis=1), y_pred_classes, average='weighted')\n",
        "\n",
        "print(\"Precision:\", precision)\n",
        "print(\"Recall:\", recall)\n",
        "print(\"F1 Score:\", f1)"
      ],
      "metadata": {
        "id": "gSkZgZWz9nok",
        "colab": {
          "base_uri": "https://localhost:8080/"
        },
        "outputId": "9ae47483-b57a-41e5-d68b-a3c1e7e80420"
      },
      "execution_count": 16,
      "outputs": [
        {
          "output_type": "stream",
          "name": "stdout",
          "text": [
            "Test Loss: 1.6325287818908691\n",
            "Test Accuracy: 0.255952388048172\n",
            "6/6 [==============================] - 3s 8ms/step\n",
            "Precision: 0.3527077497665733\n",
            "Recall: 0.25595238095238093\n",
            "F1 Score: 0.20999598136596828\n"
          ]
        },
        {
          "output_type": "stream",
          "name": "stderr",
          "text": [
            "/usr/local/lib/python3.10/dist-packages/sklearn/metrics/_classification.py:1344: UndefinedMetricWarning: Precision is ill-defined and being set to 0.0 in labels with no predicted samples. Use `zero_division` parameter to control this behavior.\n",
            "  _warn_prf(average, modifier, msg_start, len(result))\n"
          ]
        }
      ]
    },
    {
      "cell_type": "code",
      "source": [
        "import seaborn as sns\n",
        "import matplotlib.pyplot as plt\n",
        "\n",
        "pre_train_index = model.predict(x_train).argmax(axis=1)\n",
        "obs_train_index = np.argmax(y_train, axis=1)\n",
        "pre_test_index = model.predict(x_test).argmax(axis=1)\n",
        "obs_test_index = np.argmax(y_test, axis=1)\n",
        "\n",
        "result_train = confusion_matrix(obs_train_index, pre_train_index)\n",
        "result_test = confusion_matrix(obs_test_index, pre_test_index)\n",
        "\n",
        "plt.figure(figsize=(12, 6))\n",
        "plt.subplot(1, 2, 1)\n",
        "sns.heatmap(result_train, annot=True, fmt='d', cmap='Blues')\n",
        "plt.title('Training result')\n",
        "plt.xlabel('Predicted')\n",
        "plt.ylabel('Observed')\n",
        "\n",
        "plt.subplot(1, 2, 2)\n",
        "sns.heatmap(result_test, annot=True, fmt='d', cmap='Reds')\n",
        "plt.title('Test result')\n",
        "plt.xlabel('Predicted')\n",
        "plt.ylabel('Observed')\n",
        "plt.tight_layout()\n",
        "plt.show()"
      ],
      "metadata": {
        "id": "pPAGpt7c9nhF",
        "colab": {
          "base_uri": "https://localhost:8080/",
          "height": 642
        },
        "outputId": "967035cb-ab71-4d69-a004-0fe7dc638508"
      },
      "execution_count": 13,
      "outputs": [
        {
          "output_type": "stream",
          "name": "stdout",
          "text": [
            "21/21 [==============================] - 1s 60ms/step\n",
            "6/6 [==============================] - 1s 215ms/step\n"
          ]
        },
        {
          "output_type": "display_data",
          "data": {
            "text/plain": [
              "<Figure size 1200x600 with 4 Axes>"
            ],
            "image/png": "[encoded data removed]"
          },
          "metadata": {}
        }
      ]
    },
    {
      "cell_type": "code",
      "source": [],
      "metadata": {
        "id": "jXhafurY9nZU"
      },
      "execution_count": 8,
      "outputs": []
    },
    {
      "cell_type": "code",
      "source": [],
      "metadata": {
        "id": "niRXJDnOfN1j"
      },
      "execution_count": 8,
      "outputs": []
    },
    {
      "cell_type": "code",
      "source": [],
      "metadata": {
        "id": "2dU-MBUKfNvV"
      },
      "execution_count": 8,
      "outputs": []
    },
    {
      "cell_type": "code",
      "source": [],
      "metadata": {
        "id": "gskgU4_ffNtS"
      },
      "execution_count": 8,
      "outputs": []
    },
    {
      "cell_type": "code",
      "source": [],
      "metadata": {
        "id": "88jgZOy0jUUH"
      },
      "execution_count": 8,
      "outputs": []
    },
    {
      "cell_type": "code",
      "source": [
        "print(\"x_train shape:\", x_train.shape)\n",
        "print(\"y_train shape:\", y_train.shape)\n",
        "print(\"x_test shape:\", x_test.shape)\n",
        "print(\"y_test shape:\", y_test.shape)"
      ],
      "metadata": {
        "id": "pCwsgAje3YmN",
        "colab": {
          "base_uri": "https://localhost:8080/"
        },
        "outputId": "199b029e-8559-44e8-9cb7-7f7abdf2c0a2"
      },
      "execution_count": 9,
      "outputs": [
        {
          "output_type": "stream",
          "name": "stdout",
          "text": [
            "x_train shape: (646, 35, 24, 1)\n",
            "y_train shape: (646, 7)\n",
            "x_test shape: (162, 35, 24, 1)\n",
            "y_test shape: (162, 7)\n"
          ]
        }
      ]
    }
  ]
}